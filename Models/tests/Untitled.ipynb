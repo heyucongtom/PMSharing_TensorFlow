{
 "cells": [
  {
   "cell_type": "code",
   "execution_count": 31,
   "metadata": {
    "collapsed": false
   },
   "outputs": [
    {
     "name": "stdout",
     "output_type": "stream",
     "text": [
      "16.5957660675\n"
     ]
    }
   ],
   "source": [
    "import pandas as pd\n",
    "df=pd.read_csv('Trial_1.csv', sep=',')\n",
    "print(df.iloc[0]['duration'])"
   ]
  },
  {
   "cell_type": "code",
   "execution_count": null,
   "metadata": {
    "collapsed": false
   },
   "outputs": [],
   "source": [
    "\"\"\"\n",
    "Draw Graph\n",
    "\"\"\"\n",
    "import matplotlib.pyplot as plt\n",
    "from mpl_toolkits.mplot3d import Axes3D\n",
    "\n",
    "PROCESS_NUMS = [1,2,3,4]\n",
    "\n",
    "fig = plt.figure()\n",
    "ax = fig.gca(projection='3d')\n",
    "x = df['process_num'].drop_duplicates()\n",
    "y = df['batch_size'].drop_duplicates()\n",
    "X, Y = np.meshgrid(y, x)\n",
    "\n",
    "grid = list(zip(np.ravel(X), np.ravel(Y)))\n",
    "\n",
    "zs = np.array([df.iloc[i]['duration'] for i in range(len(grid))])\n",
    "Z = zs.reshape(X.shape)\n",
    "ax.set_xlabel('Batch_size')\n",
    "ax.set_ylabel('Process_num')\n",
    "ax.set_zlabel('Duration')\n",
    "surf = ax.plot_wireframe(X, Y, Z)\n",
    "\n",
    "plt.show()"
   ]
  },
  {
   "cell_type": "code",
   "execution_count": null,
   "metadata": {
    "collapsed": true
   },
   "outputs": [],
   "source": []
  }
 ],
 "metadata": {
  "kernelspec": {
   "display_name": "Python 3",
   "language": "python",
   "name": "python3"
  },
  "language_info": {
   "codemirror_mode": {
    "name": "ipython",
    "version": 3
   },
   "file_extension": ".py",
   "mimetype": "text/x-python",
   "name": "python",
   "nbconvert_exporter": "python",
   "pygments_lexer": "ipython3",
   "version": "3.5.2"
  }
 },
 "nbformat": 4,
 "nbformat_minor": 0
}
